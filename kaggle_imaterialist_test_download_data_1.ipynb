{
 "cells": [
  {
   "cell_type": "markdown",
   "metadata": {},
   "source": [
    "https://www.kaggle.com/c/imaterialist-challenge-fashion-2018  \n",
    "\n",
    "https://www.kaggle.com/c/imaterialist-challenge-fashion-2018/data  \n",
    "kaggle competitions download -c imaterialist-challenge-fashion-2018 \n",
    "\n",
    "cd  cd ~/.kaggle/competitions/imaterialist-challenge-fashion-2018/  \n",
    "unzip sample_submission.csv.zip  \n",
    "unzip test.json.zip  \n",
    "unzip train.json.zip  \n",
    "unzip validation.json.zip  \n",
    "\n",
    "nb: these json files only contain links to the data to be downloaded. not the actual data."
   ]
  },
  {
   "cell_type": "code",
   "execution_count": 2,
   "metadata": {},
   "outputs": [],
   "source": [
    "import imghdr\n",
    "import urllib.request\n",
    "import shutil\n",
    "import os\n",
    "import time"
   ]
  },
  {
   "cell_type": "code",
   "execution_count": 3,
   "metadata": {},
   "outputs": [],
   "source": [
    "DATADIR = \"/home/ec2-user/kaggleData/imaterialist/\"\n",
    "TEST_DIR = DATADIR + \"test\"\n",
    "TRAIN_DIR = DATADIR + \"train\"\n",
    "VALID_DIR = DATADIR + \"valid\"\n",
    "KAGGLE_DATA_DIR = \"/home/ec2-user/.kaggle/competitions/imaterialist-challenge-fashion-2018/\"\n",
    "TEST_SOURCE = \"test.json\"\n",
    "TRAIN_SOURCE = \"train.json\"\n",
    "VALIDATION_SOURCE = \"validation.json\""
   ]
  },
  {
   "cell_type": "code",
   "execution_count": 4,
   "metadata": {},
   "outputs": [
    {
     "name": "stdout",
     "output_type": "stream",
     "text": [
      "<class 'dict'> 1\n"
     ]
    }
   ],
   "source": [
    "import json\n",
    "\n",
    "with open(KAGGLE_DATA_DIR+TEST_SOURCE, 'r') as f:\n",
    "    test_source = json.load(f)\n",
    "\n",
    "print (type(test_source), len(test_source))"
   ]
  },
  {
   "cell_type": "code",
   "execution_count": 5,
   "metadata": {},
   "outputs": [
    {
     "name": "stdout",
     "output_type": "stream",
     "text": [
      "test_source.keys(): dict_keys(['images'])\n",
      "test_source['images']: <class 'list'> 39706\n",
      "<class 'dict'> dict_keys(['url', 'imageId'])\n"
     ]
    }
   ],
   "source": [
    "print (\"test_source.keys():\", test_source.keys())\n",
    "print (\"test_source['images']:\", type(test_source['images']), len(test_source['images']))\n",
    "print (type(test_source['images'][0]), test_source['images'][0].keys() )"
   ]
  },
  {
   "cell_type": "code",
   "execution_count": 6,
   "metadata": {},
   "outputs": [
    {
     "data": {
      "text/plain": [
       "1525427733.3826885"
      ]
     },
     "execution_count": 6,
     "metadata": {},
     "output_type": "execute_result"
    }
   ],
   "source": [
    "time.time()"
   ]
  },
  {
   "cell_type": "code",
   "execution_count": null,
   "metadata": {},
   "outputs": [],
   "source": [
    "#list files in dir  for file in \n",
    "testFilesList = os.listdir(TEST_DIR)\n",
    "print (\"No of files :\", len(testFilesList))\n",
    "for i in range(len(testFilesList)):\n",
    "    temp = testFilesList[i].split(\".\",1)[0]  #strip .filesuffix and convert to int.\n",
    "    print (\"i:\", i, \":\", testFilesList[i], temp)\n",
    "    testFilesList[i] = int(temp)\n"
   ]
  },
  {
   "cell_type": "code",
   "execution_count": null,
   "metadata": {},
   "outputs": [],
   "source": [
    "type(testFilesList[0])"
   ]
  },
  {
   "cell_type": "code",
   "execution_count": null,
   "metadata": {},
   "outputs": [],
   "source": [
    "os.chdir(TEST_DIR)\n",
    "\n",
    "err_count = 0\n",
    "start_time = time.time()\n",
    "for image in test_source['images']:\n",
    "    try:\n",
    "        print (image['imageId'], image['url'])\n",
    "        if image['imageId'] not in testFilesList:\n",
    "            # Download the file from `url` and save it locally under `file_name`:\n",
    "            with urllib.request.urlopen(image['url']) as response, open(str(image['imageId']), 'wb') as out_file:\n",
    "                shutil.copyfileobj(response, out_file)\n",
    "            image_type = imghdr.what(str(image['imageId']))\n",
    "            print(image_type)\n",
    "            os.rename(str(image['imageId']), str(image['imageId'])+\".\"+image_type)\n",
    "        else:\n",
    "            print (\"already downloaded, skipping.\")\n",
    "    except:\n",
    "        print (\"Unexpected error: \"+ image['imageId'], image['url'], sys.exc_info()[0])\n",
    "        err_count += 1\n",
    "    #break\n",
    "print (\"err_count:\", err_count)\n",
    "print (\"execution took :\"+str(time.time()-start_time))"
   ]
  },
  {
   "cell_type": "code",
   "execution_count": null,
   "metadata": {},
   "outputs": [],
   "source": [
    "os.getcwd()\n",
    "\n",
    "\n",
    "\n"
   ]
  },
  {
   "cell_type": "code",
   "execution_count": null,
   "metadata": {},
   "outputs": [],
   "source": [
    "os.listdir()"
   ]
  },
  {
   "cell_type": "code",
   "execution_count": 9,
   "metadata": {},
   "outputs": [
    {
     "name": "stdout",
     "output_type": "stream",
     "text": [
      "num_files_in_json: 39706\n",
      "num_files_downoaded: 39706\n",
      "download complete.\n"
     ]
    }
   ],
   "source": [
    "\n",
    "num_files_in_json = len(test_source['images'])\n",
    "num_files_downoaded = len(os.listdir(TEST_DIR))\n",
    "print (\"num_files_in_json:\", num_files_in_json)\n",
    "print (\"num_files_downoaded:\", num_files_downoaded)\n",
    "if num_files_in_json == num_files_downoaded:\n",
    "    print (\"download complete.\")\n",
    "else:\n",
    "    print (\"download incomplete.\")"
   ]
  },
  {
   "cell_type": "code",
   "execution_count": 10,
   "metadata": {},
   "outputs": [
    {
     "data": {
      "text/plain": [
       "'/home/ec2-user/kaggle/kaggle_imaterialist_fashion'"
      ]
     },
     "execution_count": 10,
     "metadata": {},
     "output_type": "execute_result"
    }
   ],
   "source": [
    "os.getcwd()"
   ]
  },
  {
   "cell_type": "code",
   "execution_count": 11,
   "metadata": {},
   "outputs": [
    {
     "name": "stdout",
     "output_type": "stream",
     "text": [
      "\u001b[01;34m.\u001b[00m\r\n",
      "\r\n",
      "0 directories\r\n"
     ]
    }
   ],
   "source": [
    "os.chdir(TEST_DIR)\n",
    "!tree -d"
   ]
  },
  {
   "cell_type": "code",
   "execution_count": 12,
   "metadata": {},
   "outputs": [
    {
     "name": "stdout",
     "output_type": "stream",
     "text": [
      "39706\r\n"
     ]
    }
   ],
   "source": [
    "!find . -type f | wc -l"
   ]
  },
  {
   "cell_type": "code",
   "execution_count": null,
   "metadata": {},
   "outputs": [],
   "source": []
  }
 ],
 "metadata": {
  "kernelspec": {
   "display_name": "Python 3",
   "language": "python",
   "name": "python3"
  }
 },
 "nbformat": 4,
 "nbformat_minor": 2
}
