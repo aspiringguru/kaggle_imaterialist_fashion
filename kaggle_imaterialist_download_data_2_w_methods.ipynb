{
 "cells": [
  {
   "cell_type": "code",
   "execution_count": 7,
   "metadata": {},
   "outputs": [],
   "source": [
    "import imghdr\n",
    "import urllib.request\n",
    "import shutil\n",
    "import os\n",
    "import time\n",
    "import json\n",
    "import sys"
   ]
  },
  {
   "cell_type": "code",
   "execution_count": 4,
   "metadata": {},
   "outputs": [],
   "source": [
    "DATADIR = \"/home/ec2-user/kaggleData/imaterialist/\"\n",
    "TEST_DIR = DATADIR + \"test\"\n",
    "TRAIN_DIR = DATADIR + \"train\"\n",
    "VALID_DIR = DATADIR + \"valid\"\n",
    "KAGGLE_DATA_DIR = \"/home/ec2-user/.kaggle/competitions/imaterialist-challenge-fashion-2018/\"\n",
    "TEST_SOURCE = \"test.json\"\n",
    "TRAIN_SOURCE = \"train.json\"\n",
    "VALIDATION_SOURCE = \"validation.json\""
   ]
  },
  {
   "cell_type": "markdown",
   "metadata": {},
   "source": [
    "with open(KAGGLE_DATA_DIR+TEST_SOURCE, 'r') as f:\n",
    "    test_source = json.load(f)\n",
    "\n",
    "print (type(test_source), len(test_source))"
   ]
  },
  {
   "cell_type": "markdown",
   "metadata": {},
   "source": [
    "print (train_source.keys())\n",
    "print (\"images:\", type(train_source['images']), len(train_source['images']), \"\\n\", train_source['images'][0])\n",
    "print ('info:', type(train_source['info']), train_source['info'].keys(), len(train_source['info']))\n",
    "print ('annotations:', type(train_source['annotations']), len(train_source['annotations']), \"\\n\", train_source['annotations'][0])\n",
    "print ('license:', type(train_source['license']), len(train_source['license']))\n",
    "#print (type(train_source['images'][0]), train_source['images'][0].keys() )\n",
    "\n",
    "#NB: json structure for file url is same for train and test. train has extra info."
   ]
  },
  {
   "cell_type": "code",
   "execution_count": null,
   "metadata": {},
   "outputs": [],
   "source": [
    "\n",
    "def download_data(dest_dir, json_source, overwriteFiles = False):\n",
    "    print (\"loading json:\", json_source)\n",
    "    with open(json_source, 'r') as f:\n",
    "        data_source = json.load(f)\n",
    "    print (type(data_source), len(data_source))\n",
    "    \n",
    "\n",
    "\n",
    "    #make list of files in dir  for file in \n",
    "    testFilesList = os.listdir(dest_dir)\n",
    "    for i in range(len(testFilesList)):\n",
    "        temp = testFilesList[i].split(\".\",1)[0]  #strip .filesuffix and convert to int.\n",
    "        print (\"i:\", i, \":\", testFilesList[i], temp)\n",
    "        testFilesList[i] = int(temp)\n",
    "\n",
    "    os.chdir(dest_dir)\n",
    "    err_count = 0\n",
    "    start_time = time.time()\n",
    "    for image in data_source['images']:\n",
    "        try:\n",
    "            print (image['imageId'], image['url'])\n",
    "            if image['imageId'] not in testFilesList or overwriteFiles:\n",
    "                # Download the file from `url` and save it locally under `file_name`:\n",
    "                with urllib.request.urlopen(image['url']) as response, open(str(image['imageId']), 'wb') as out_file:\n",
    "                    shutil.copyfileobj(response, out_file)\n",
    "                image_type = imghdr.what(str(image['imageId']))\n",
    "                print(image_type)\n",
    "                os.rename(str(image['imageId']), str(image['imageId'])+\".\"+image_type)\n",
    "            else:\n",
    "                print (\"already downloaded, skipping.\")\n",
    "        except:\n",
    "            print (\"Unexpected error: \"+ image['imageId'], image['url'], sys.exc_info()[0])\n",
    "            err_count += 1\n",
    "        #break\n",
    "    print (\"err_count:\", err_count)\n",
    "    print (\"execution took :\"+str(time.time()-start_time))\n"
   ]
  },
  {
   "cell_type": "code",
   "execution_count": null,
   "metadata": {},
   "outputs": [],
   "source": [
    "download_data(TRAIN_DIR, KAGGLE_DATA_DIR+TRAIN_SOURCE, overwriteFiles = False)"
   ]
  },
  {
   "cell_type": "code",
   "execution_count": null,
   "metadata": {},
   "outputs": [],
   "source": []
  }
 ],
 "metadata": {
  "kernelspec": {
   "display_name": "Python 3",
   "language": "python",
   "name": "python3"
  },
  "language_info": {
   "codemirror_mode": {
    "name": "ipython",
    "version": 3
   },
   "file_extension": ".py",
   "mimetype": "text/x-python",
   "name": "python",
   "nbconvert_exporter": "python",
   "pygments_lexer": "ipython3",
   "version": "3.6.4"
  }
 },
 "nbformat": 4,
 "nbformat_minor": 2
}
